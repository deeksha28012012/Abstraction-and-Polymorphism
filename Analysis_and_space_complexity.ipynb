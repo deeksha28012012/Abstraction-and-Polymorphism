{
  "nbformat": 4,
  "nbformat_minor": 0,
  "metadata": {
    "colab": {
      "provenance": [],
      "authorship_tag": "ABX9TyP324cZkbJhMoJzLZWaa0Cm",
      "include_colab_link": true
    },
    "kernelspec": {
      "name": "python3",
      "display_name": "Python 3"
    },
    "language_info": {
      "name": "python"
    }
  },
  "cells": [
    {
      "cell_type": "markdown",
      "metadata": {
        "id": "view-in-github",
        "colab_type": "text"
      },
      "source": [
        "<a href=\"https://colab.research.google.com/github/deeksha28012012/Abstraction-and-Polymorphism/blob/main/Analysis_and_space_complexity.ipynb\" target=\"_parent\"><img src=\"https://colab.research.google.com/assets/colab-badge.svg\" alt=\"Open In Colab\"/></a>"
      ]
    },
    {
      "cell_type": "code",
      "execution_count": 9,
      "metadata": {
        "colab": {
          "base_uri": "https://localhost:8080/"
        },
        "id": "trgGT9fbF3nm",
        "outputId": "5d44e327-b373-4f6d-fde6-c5fba361f035"
      },
      "outputs": [
        {
          "output_type": "stream",
          "name": "stdout",
          "text": [
            "38781.0\n"
          ]
        }
      ],
      "source": [
        "def sum(n):\n",
        "  return n*(n+1)/2\n",
        "print(sum(278))"
      ]
    },
    {
      "cell_type": "code",
      "source": [
        "def arraysum(a):\n",
        "  sum=0\n",
        "  for i in a:\n",
        "    sum = sum+i\n",
        "  return(sum)\n",
        "a = [12,3,4,15]\n",
        "print(arraysum(a))\n"
      ],
      "metadata": {
        "colab": {
          "base_uri": "https://localhost:8080/"
        },
        "id": "RbkuvIgwMu35",
        "outputId": "06ac9fc9-6e72-4e94-e28a-d5f37b273604"
      },
      "execution_count": 4,
      "outputs": [
        {
          "output_type": "stream",
          "name": "stdout",
          "text": [
            "34\n"
          ]
        }
      ]
    },
    {
      "cell_type": "code",
      "source": [
        "def arraysum(a):\n",
        "  sum=6\n",
        "  for i in a:\n",
        "    sum = sum*i\n",
        "  return(sum)\n",
        "a = [12,3,4,15]\n",
        "print(arraysum(a))"
      ],
      "metadata": {
        "colab": {
          "base_uri": "https://localhost:8080/"
        },
        "id": "oD6ItCjiN-cj",
        "outputId": "9d9ec9ba-62de-4b2e-c9b9-a60f019b7213"
      },
      "execution_count": 11,
      "outputs": [
        {
          "output_type": "stream",
          "name": "stdout",
          "text": [
            "12960\n"
          ]
        }
      ]
    }
  ]
}