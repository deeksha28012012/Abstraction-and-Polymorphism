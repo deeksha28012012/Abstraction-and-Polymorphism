{
  "nbformat": 4,
  "nbformat_minor": 0,
  "metadata": {
    "colab": {
      "provenance": [],
      "authorship_tag": "ABX9TyMcGopi6lskDVZhNzZTNlRH",
      "include_colab_link": true
    },
    "kernelspec": {
      "name": "python3",
      "display_name": "Python 3"
    },
    "language_info": {
      "name": "python"
    }
  },
  "cells": [
    {
      "cell_type": "markdown",
      "metadata": {
        "id": "view-in-github",
        "colab_type": "text"
      },
      "source": [
        "<a href=\"https://colab.research.google.com/github/deeksha28012012/Abstraction-and-Polymorphism/blob/main/Asymptotic_notation.ipynb\" target=\"_parent\"><img src=\"https://colab.research.google.com/assets/colab-badge.svg\" alt=\"Open In Colab\"/></a>"
      ]
    },
    {
      "cell_type": "code",
      "execution_count": 3,
      "metadata": {
        "id": "ABCzVuKGMk1c",
        "colab": {
          "base_uri": "https://localhost:8080/"
        },
        "outputId": "14084b17-4a01-4219-d409-79d18fe18002"
      },
      "outputs": [
        {
          "output_type": "stream",
          "name": "stdout",
          "text": [
            "the number entered by user 10\n",
            "total iterations done by the code is 1 \n",
            "\n",
            "the number entered by user 20\n",
            "total iterations done by the code is 1 \n",
            "\n",
            "\n",
            " with any'n' the time taken by our code won't change\n"
          ]
        }
      ],
      "source": [
        "def printnumber(n):\n",
        "  iteration=0\n",
        "  print(\"the number entered by user\",n)\n",
        "  iteration+=1\n",
        "  print(\"total iterations done by the code is\",iteration,\"\\n\")\n",
        "\n",
        "printnumber(10)\n",
        "printnumber(20)\n",
        "print(\"\\n with any'n' the time taken by our code won't change\")"
      ]
    },
    {
      "cell_type": "code",
      "source": [
        "def OnTime(n):\n",
        "  iteration=0\n",
        "  for i in range(1,n+1):\n",
        "    iteration+=1\n",
        "  print(\"When n is\",n,\"iteration\",iteration)\n",
        "\n",
        "OnTime(10)\n",
        "OnTime(20)\n"
      ],
      "metadata": {
        "colab": {
          "base_uri": "https://localhost:8080/"
        },
        "id": "OHoxirTvUgLA",
        "outputId": "278cd34a-b1ee-4395-e446-47298beec477"
      },
      "execution_count": 5,
      "outputs": [
        {
          "output_type": "stream",
          "name": "stdout",
          "text": [
            "When n is 10 iteration 10\n",
            "When n is 20 iteration 20\n"
          ]
        }
      ]
    },
    {
      "cell_type": "code",
      "source": [
        "def OnSquareTime(n):\n",
        "  iteration=0\n",
        "  for i in range(0,n):\n",
        "    for j in range(0,n):\n",
        "      print(\"*\",end=\" \")\n",
        "      iteration+=1\n",
        "    print(\"\")\n",
        "  print(\"\\nWhen n is\",n,\"Iterations\",iteration,\"\\n\")\n",
        "OnSquareTime(10)\n",
        "OnSquareTime(20)\n",
        "print(\"\\nWith every 'n' the time taken equals n^2\")\n",
        "print(\"O(n^2)\")"
      ],
      "metadata": {
        "colab": {
          "base_uri": "https://localhost:8080/"
        },
        "id": "Sr3o0FftVmqb",
        "outputId": "da26f481-6d04-435b-80c1-c52bda82798f"
      },
      "execution_count": 6,
      "outputs": [
        {
          "output_type": "stream",
          "name": "stdout",
          "text": [
            "* * * * * * * * * * \n",
            "* * * * * * * * * * \n",
            "* * * * * * * * * * \n",
            "* * * * * * * * * * \n",
            "* * * * * * * * * * \n",
            "* * * * * * * * * * \n",
            "* * * * * * * * * * \n",
            "* * * * * * * * * * \n",
            "* * * * * * * * * * \n",
            "* * * * * * * * * * \n",
            "\n",
            "When n is 10 Iterations 100 \n",
            "\n",
            "* * * * * * * * * * * * * * * * * * * * \n",
            "* * * * * * * * * * * * * * * * * * * * \n",
            "* * * * * * * * * * * * * * * * * * * * \n",
            "* * * * * * * * * * * * * * * * * * * * \n",
            "* * * * * * * * * * * * * * * * * * * * \n",
            "* * * * * * * * * * * * * * * * * * * * \n",
            "* * * * * * * * * * * * * * * * * * * * \n",
            "* * * * * * * * * * * * * * * * * * * * \n",
            "* * * * * * * * * * * * * * * * * * * * \n",
            "* * * * * * * * * * * * * * * * * * * * \n",
            "* * * * * * * * * * * * * * * * * * * * \n",
            "* * * * * * * * * * * * * * * * * * * * \n",
            "* * * * * * * * * * * * * * * * * * * * \n",
            "* * * * * * * * * * * * * * * * * * * * \n",
            "* * * * * * * * * * * * * * * * * * * * \n",
            "* * * * * * * * * * * * * * * * * * * * \n",
            "* * * * * * * * * * * * * * * * * * * * \n",
            "* * * * * * * * * * * * * * * * * * * * \n",
            "* * * * * * * * * * * * * * * * * * * * \n",
            "* * * * * * * * * * * * * * * * * * * * \n",
            "\n",
            "When n is 20 Iterations 400 \n",
            "\n",
            "\n",
            "With every 'n' the time taken equals n^2\n",
            "O(n^2)\n"
          ]
        }
      ]
    }
  ]
}