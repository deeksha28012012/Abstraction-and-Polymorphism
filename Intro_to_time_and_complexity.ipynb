{
  "nbformat": 4,
  "nbformat_minor": 0,
  "metadata": {
    "colab": {
      "provenance": [],
      "authorship_tag": "ABX9TyOy+8IJ7QdinmZxPtqIuOn6",
      "include_colab_link": true
    },
    "kernelspec": {
      "name": "python3",
      "display_name": "Python 3"
    },
    "language_info": {
      "name": "python"
    }
  },
  "cells": [
    {
      "cell_type": "markdown",
      "metadata": {
        "id": "view-in-github",
        "colab_type": "text"
      },
      "source": [
        "<a href=\"https://colab.research.google.com/github/deeksha28012012/Abstraction-and-Polymorphism/blob/main/Intro_to_time_and_complexity.ipynb\" target=\"_parent\"><img src=\"https://colab.research.google.com/assets/colab-badge.svg\" alt=\"Open In Colab\"/></a>"
      ]
    },
    {
      "cell_type": "code",
      "execution_count": 1,
      "metadata": {
        "colab": {
          "base_uri": "https://localhost:8080/"
        },
        "id": "hVeuZGG6HKNe",
        "outputId": "e8841fd4-dda1-41af-f2a9-3da950248361"
      },
      "outputs": [
        {
          "output_type": "stream",
          "name": "stdout",
          "text": [
            "10.0\n"
          ]
        }
      ],
      "source": [
        "def fun1(n):\n",
        "  return n*(n+1)/2\n",
        "print(fun1(4))"
      ]
    },
    {
      "cell_type": "code",
      "source": [
        "def fun2(n):\n",
        "  sum=0\n",
        "  for i in range(1,n+1):\n",
        "    sum+=i\n",
        "  return sum\n",
        "print(fun2(4))"
      ],
      "metadata": {
        "colab": {
          "base_uri": "https://localhost:8080/"
        },
        "id": "DA37dD5PLXF6",
        "outputId": "21de458a-99ba-4771-cb0c-1c237329c58b"
      },
      "execution_count": 2,
      "outputs": [
        {
          "output_type": "stream",
          "name": "stdout",
          "text": [
            "10\n"
          ]
        }
      ]
    },
    {
      "cell_type": "code",
      "source": [
        "def fun3(n):\n",
        "  sum=0\n",
        "  for i in range(1,n+1):\n",
        "    for j in range(1,i+1):\n",
        "      sum+=i\n",
        "  return sum\n",
        "print(fun3(4))"
      ],
      "metadata": {
        "colab": {
          "base_uri": "https://localhost:8080/"
        },
        "id": "OV2lT4QfMApC",
        "outputId": "7ad1167e-ce17-450e-cb64-d2d9cbabe868"
      },
      "execution_count": 4,
      "outputs": [
        {
          "output_type": "stream",
          "name": "stdout",
          "text": [
            "30\n"
          ]
        }
      ]
    }
  ]
}