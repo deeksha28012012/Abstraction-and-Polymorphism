{
  "nbformat": 4,
  "nbformat_minor": 0,
  "metadata": {
    "colab": {
      "provenance": [],
      "authorship_tag": "ABX9TyPozbp0HPCduhIy+Lcaezae",
      "include_colab_link": true
    },
    "kernelspec": {
      "name": "python3",
      "display_name": "Python 3"
    },
    "language_info": {
      "name": "python"
    }
  },
  "cells": [
    {
      "cell_type": "markdown",
      "metadata": {
        "id": "view-in-github",
        "colab_type": "text"
      },
      "source": [
        "<a href=\"https://colab.research.google.com/github/deeksha28012012/Abstraction-and-Polymorphism/blob/main/Introduction_to_Bit_Manipulation.ipynb\" target=\"_parent\"><img src=\"https://colab.research.google.com/assets/colab-badge.svg\" alt=\"Open In Colab\"/></a>"
      ]
    },
    {
      "cell_type": "code",
      "execution_count": 1,
      "metadata": {
        "colab": {
          "base_uri": "https://localhost:8080/"
        },
        "id": "h_bPICP8XA-u",
        "outputId": "ab1d020f-7f07-42b6-dfb9-94a9235baf26"
      },
      "outputs": [
        {
          "output_type": "stream",
          "name": "stdout",
          "text": [
            "num1 & num2 are:  0\n",
            "num1 | num2 are:  14\n",
            "num1 ^ num2 are:  14\n",
            "num1 << num2 are:  160\n",
            "num1 >> num2 are:  0\n",
            "~num1 is:  -11\n",
            "~num2 is:  -5\n"
          ]
        }
      ],
      "source": [
        "num1 = 10\n",
        "num2 = 4\n",
        "print(\"num1 & num2 are: \", num1 & num2)\n",
        "print(\"num1 | num2 are: \", num1 | num2)\n",
        "print(\"num1 ^ num2 are: \", num1 ^ num2)\n",
        "print(\"num1 << num2 are: \", num1 << num2)\n",
        "print(\"num1 >> num2 are: \", num1 >> num2)\n",
        "print(\"~num1 is: \", ~num1)\n",
        "print(\"~num2 is: \", ~num2)"
      ]
    },
    {
      "cell_type": "code",
      "source": [
        "def isevenodd(n):\n",
        "  if(n^1==n+1):\n",
        "    return True\n",
        "  else:\n",
        "    return False\n",
        "number= int(input(\"Enter a number: \"))\n",
        "if isevenodd(number):\n",
        "  print(number, \"is even\")\n",
        "else:\n",
        "  print(number, \"is odd\")"
      ],
      "metadata": {
        "colab": {
          "base_uri": "https://localhost:8080/"
        },
        "id": "SHRq5y6AePIH",
        "outputId": "8c76b56a-8e67-4649-9ab7-0967979fee29"
      },
      "execution_count": 4,
      "outputs": [
        {
          "output_type": "stream",
          "name": "stdout",
          "text": [
            "Enter a number: 4\n",
            "4 is even\n"
          ]
        }
      ]
    },
    {
      "cell_type": "code",
      "source": [
        "def numberofBits(n):\n",
        "  count = 0\n",
        "  while(n):\n",
        "    count+= 1\n",
        "    n>>= 1\n",
        "  return count\n",
        "n = int(input(\"enter a number: \"))\n",
        "print(\"number of bits: \", numberofBits(n))"
      ],
      "metadata": {
        "colab": {
          "base_uri": "https://localhost:8080/"
        },
        "id": "vnVwv5-Th608",
        "outputId": "793b3569-a28b-44cd-805b-7ee02eccb4ca"
      },
      "execution_count": 7,
      "outputs": [
        {
          "output_type": "stream",
          "name": "stdout",
          "text": [
            "enter a number: 45\n",
            "number of bits:  6\n"
          ]
        }
      ]
    }
  ]
}