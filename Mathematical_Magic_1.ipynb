{
  "nbformat": 4,
  "nbformat_minor": 0,
  "metadata": {
    "colab": {
      "provenance": [],
      "authorship_tag": "ABX9TyPeiQ7UeskISyWCyapf2yDc",
      "include_colab_link": true
    },
    "kernelspec": {
      "name": "python3",
      "display_name": "Python 3"
    },
    "language_info": {
      "name": "python"
    }
  },
  "cells": [
    {
      "cell_type": "markdown",
      "metadata": {
        "id": "view-in-github",
        "colab_type": "text"
      },
      "source": [
        "<a href=\"https://colab.research.google.com/github/deeksha28012012/Abstraction-and-Polymorphism/blob/main/Mathematical_Magic_1.ipynb\" target=\"_parent\"><img src=\"https://colab.research.google.com/assets/colab-badge.svg\" alt=\"Open In Colab\"/></a>"
      ]
    },
    {
      "cell_type": "code",
      "execution_count": 3,
      "metadata": {
        "colab": {
          "base_uri": "https://localhost:8080/"
        },
        "id": "tMx59tfkPPFE",
        "outputId": "35c30395-7d63-48a7-9d38-2b5d32991114"
      },
      "outputs": [
        {
          "output_type": "stream",
          "name": "stdout",
          "text": [
            "input number: 1234\n",
            "1234 is not armstrong number\n"
          ]
        }
      ],
      "source": [
        "number = int(input(\"input number: \"))\n",
        "s = 0\n",
        "temp = number\n",
        "while temp!=0:\n",
        "  digit = temp%10\n",
        "  s = s+digit**3\n",
        "  temp= temp//10\n",
        "if number == s:\n",
        "  print(number, \"is armstrong number\")\n",
        "else:\n",
        "  print(number, \"is not armstrong number\")"
      ]
    },
    {
      "cell_type": "code",
      "source": [
        "def print_factors(number):\n",
        "  print(\"the factors of\", number, \"are:\")\n",
        "  for i in range(1, number+1):\n",
        "    if number % i == 0:\n",
        "      print(i)\n",
        "number= int(input(\"input number:\"))\n",
        "print_factors(number)"
      ],
      "metadata": {
        "colab": {
          "base_uri": "https://localhost:8080/"
        },
        "collapsed": true,
        "id": "qMppDyQcU5W8",
        "outputId": "7f92c37b-eb2c-43ad-d927-74274d1a3b48"
      },
      "execution_count": null,
      "outputs": [
        {
          "output_type": "stream",
          "name": "stdout",
          "text": [
            "7213567598\n"
          ]
        }
      ]
    },
    {
      "cell_type": "code",
      "source": [
        "def roman_to_int(a):\n",
        "  roman = {\"I\":1,\"V\":5,\"X\":10,\"L\":50,\"C\":100,\"D\":500,\"M\":1000}\n",
        "  int_form=0\n",
        "  for i in range(len(a)):\n",
        "    if i+1<len(a) and roman[a[i]]<roman[a[i+1]]:\n",
        "      int_form-=roman[a[i]]\n",
        "    else:\n",
        "      int_form+=roman[a[i]]\n",
        "a = input(\"enter a roman num: \")\n",
        "print(\"integer form of \",a, \"is\", roman_to_int(a))"
      ],
      "metadata": {
        "id": "DLsh7bL0X98V"
      },
      "execution_count": null,
      "outputs": []
    }
  ]
}