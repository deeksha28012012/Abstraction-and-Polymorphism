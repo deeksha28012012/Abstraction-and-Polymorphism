{
  "nbformat": 4,
  "nbformat_minor": 0,
  "metadata": {
    "colab": {
      "provenance": [],
      "authorship_tag": "ABX9TyMzxJZvGgW5VB6hmtrjFUAc",
      "include_colab_link": true
    },
    "kernelspec": {
      "name": "python3",
      "display_name": "Python 3"
    },
    "language_info": {
      "name": "python"
    }
  },
  "cells": [
    {
      "cell_type": "markdown",
      "metadata": {
        "id": "view-in-github",
        "colab_type": "text"
      },
      "source": [
        "<a href=\"https://colab.research.google.com/github/deeksha28012012/Abstraction-and-Polymorphism/blob/main/Mathematical_Magic_2.ipynb\" target=\"_parent\"><img src=\"https://colab.research.google.com/assets/colab-badge.svg\" alt=\"Open In Colab\"/></a>"
      ]
    },
    {
      "cell_type": "code",
      "execution_count": null,
      "metadata": {
        "id": "n3oqQz3fImFo",
        "colab": {
          "base_uri": "https://localhost:8080/"
        },
        "outputId": "0fcccf79-1d8f-4133-f177-c7c90f3f793f"
      },
      "outputs": [
        {
          "output_type": "stream",
          "name": "stdout",
          "text": [
            "enter a number: 4\n",
            "4 is not prime number\n"
          ]
        }
      ],
      "source": [
        "from math import sqrt\n",
        "number=int(input(\"enter a number: \"))\n",
        "if number<1:\n",
        "  for i in range(2,int(sqrt(number))+1):\n",
        "    if (number%i==0):\n",
        "      print(number, \"is not a prime number\")\n",
        "    else:\n",
        "      print(number, \"is a prime number\")\n",
        "else:\n",
        "  print(number, \"is not prime number\")"
      ]
    },
    {
      "cell_type": "code",
      "source": [
        "a = int(input(\"enter a number: \"))\n",
        "for num in range(1,a+1):\n",
        "  c=0\n",
        "  rev=0\n",
        "  temp=num\n",
        "  for i in range(1,temp+1):\n",
        "    if temp%i==0:\n",
        "      c+=1\n",
        "  if c==2:\n",
        "    while temp>0:\n",
        "      rev = rev*10+(temp%10)\n",
        "      temp//=10\n",
        "    if rev==num:\n",
        "      print(num)"
      ],
      "metadata": {
        "colab": {
          "base_uri": "https://localhost:8080/"
        },
        "id": "WgOdBxvhVKa0",
        "outputId": "e8d291c9-9dda-4b4a-8ebc-4226b596d55f"
      },
      "execution_count": 12,
      "outputs": [
        {
          "output_type": "stream",
          "name": "stdout",
          "text": [
            "enter a number: 20\n",
            "2\n",
            "3\n",
            "5\n",
            "7\n",
            "11\n"
          ]
        }
      ]
    }
  ]
}