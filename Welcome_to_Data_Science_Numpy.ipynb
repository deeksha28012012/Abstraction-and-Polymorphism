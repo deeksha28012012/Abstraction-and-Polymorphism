{
  "nbformat": 4,
  "nbformat_minor": 0,
  "metadata": {
    "colab": {
      "provenance": [],
      "authorship_tag": "ABX9TyP3P83WivJ6VS+REAIytIY+",
      "include_colab_link": true
    },
    "kernelspec": {
      "name": "python3",
      "display_name": "Python 3"
    },
    "language_info": {
      "name": "python"
    }
  },
  "cells": [
    {
      "cell_type": "markdown",
      "metadata": {
        "id": "view-in-github",
        "colab_type": "text"
      },
      "source": [
        "<a href=\"https://colab.research.google.com/github/deeksha28012012/Abstraction-and-Polymorphism/blob/main/Welcome_to_Data_Science_Numpy.ipynb\" target=\"_parent\"><img src=\"https://colab.research.google.com/assets/colab-badge.svg\" alt=\"Open In Colab\"/></a>"
      ]
    },
    {
      "cell_type": "code",
      "execution_count": 2,
      "metadata": {
        "colab": {
          "base_uri": "https://localhost:8080/"
        },
        "id": "7mKoKerTA6VD",
        "outputId": "c5bcd42f-8b8f-422c-cd45-ac7a123e1af4"
      },
      "outputs": [
        {
          "output_type": "stream",
          "name": "stdout",
          "text": [
            "ORIGINAL ARRAY: \n",
            "[(b'James', 6, 20.21) (b'Pit', 7, 48.28) (b'Paul', 7, 40.34)\n",
            " (b'Nail', 8, 50.67)]\n",
            "SORT BY HEIGHT:\n",
            "[(b'James', 6, 20.21) (b'Paul', 7, 40.34) (b'Pit', 7, 48.28)\n",
            " (b'Nail', 8, 50.67)]\n"
          ]
        }
      ],
      "source": [
        "import numpy as np\n",
        "data_type = [(\"name\", \"S15\"), (\"class\", int), (\"height\", float)]\n",
        "students_details = [(\"James\", 6, 20.21), (\"Pit\", 7, 48.28), (\"Paul\", 7, 40.34), (\"Nail\", 8, 50.67)]\n",
        "students = np.array(students_details, dtype = data_type)\n",
        "print(\"ORIGINAL ARRAY: \")\n",
        "print(students)\n",
        "print(\"SORT BY HEIGHT:\")\n",
        "print(np.sort(students, order=\"height\"))"
      ]
    },
    {
      "cell_type": "code",
      "source": [],
      "metadata": {
        "id": "gqmatL7eBHum"
      },
      "execution_count": null,
      "outputs": []
    }
  ]
}