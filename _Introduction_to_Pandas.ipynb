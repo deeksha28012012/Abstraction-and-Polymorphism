{
  "nbformat": 4,
  "nbformat_minor": 0,
  "metadata": {
    "colab": {
      "provenance": [],
      "authorship_tag": "ABX9TyMzZrWcmDn5lMNbv3a7SIqw",
      "include_colab_link": true
    },
    "kernelspec": {
      "name": "python3",
      "display_name": "Python 3"
    },
    "language_info": {
      "name": "python"
    }
  },
  "cells": [
    {
      "cell_type": "markdown",
      "metadata": {
        "id": "view-in-github",
        "colab_type": "text"
      },
      "source": [
        "<a href=\"https://colab.research.google.com/github/deeksha28012012/Abstraction-and-Polymorphism/blob/main/_Introduction_to_Pandas.ipynb\" target=\"_parent\"><img src=\"https://colab.research.google.com/assets/colab-badge.svg\" alt=\"Open In Colab\"/></a>"
      ]
    },
    {
      "cell_type": "code",
      "execution_count": 3,
      "metadata": {
        "colab": {
          "base_uri": "https://localhost:8080/"
        },
        "id": "xzvWMJYhEQqV",
        "outputId": "cf5085ae-65e6-44b3-e077-5847c412b0b0"
      },
      "outputs": [
        {
          "output_type": "stream",
          "name": "stdout",
          "text": [
            "summary of basic information about this DataFrame and its data: \n",
            "<class 'pandas.core.frame.DataFrame'>\n",
            "Index: 10 entries, a to j\n",
            "Data columns (total 3 columns):\n",
            " #   Column     Non-Null Count  Dtype  \n",
            "---  ------     --------------  -----  \n",
            " 0   name       10 non-null     object \n",
            " 1   score      8 non-null      float64\n",
            " 2   qualified  10 non-null     object \n",
            "dtypes: float64(1), object(2)\n",
            "memory usage: 320.0+ bytes\n",
            "None\n",
            "        name  score qualified\n",
            "a  ANASTASIA  12.50       yes\n",
            "b       DIMA   6.70        no\n",
            "c      JAMES   8.90       yes\n",
            "d      EMILY   5.20        no\n",
            "e    MICHAEL    NaN       yes\n",
            "f      LAURA   4.90        no\n",
            "g      KEVIN   7.80       yes\n",
            "h      JONAS    NaN        no\n",
            "i  KATHERINE   3.90       yes\n",
            "j       DEAN   1.78        no\n"
          ]
        }
      ],
      "source": [
        "import pandas as pd\n",
        "import numpy as np\n",
        "exam_data = {\"name\": [\"ANASTASIA\", \"DIMA\", \"JAMES\", \"EMILY\", \"MICHAEL\", \"LAURA\", \"KEVIN\",\"JONAS\",\"KATHERINE\",\"DEAN\"],\n",
        "             \"score\": [12.5, 6.7, 8.9, 5.2, np.nan, 4.9, 7.8, np.nan, 3.9, 1.78],\n",
        "             \"qualified\": [\"yes\", \"no\", \"yes\", \"no\",\"yes\",\"no\", \"yes\",\"no\",\"yes\",\"no\"]}\n",
        "labels = [\"a\",\"b\",\"c\",\"d\",\"e\",\"f\",\"g\",\"h\",\"i\",\"j\"]\n",
        "df = pd.DataFrame(exam_data, index=labels)\n",
        "print(\"summary of basic information about this DataFrame and its data: \")\n",
        "print(df.info())\n",
        "print(df)"
      ]
    }
  ]
}